{
  "nbformat": 4,
  "nbformat_minor": 0,
  "metadata": {
    "colab": {
      "name": "210331_멀쩡한 사각형.ipynb",
      "provenance": [],
      "authorship_tag": "ABX9TyNdwOr+vykwI1rh5fMla5eK",
      "include_colab_link": true
    },
    "kernelspec": {
      "name": "python3",
      "display_name": "Python 3"
    },
    "language_info": {
      "name": "python"
    }
  },
  "cells": [
    {
      "cell_type": "markdown",
      "metadata": {
        "id": "view-in-github",
        "colab_type": "text"
      },
      "source": [
        "<a href=\"https://colab.research.google.com/github/wongyeung96/programmers-level2/blob/main/210331_%EB%A9%80%EC%A9%A1%ED%95%9C_%EC%82%AC%EA%B0%81%ED%98%95.ipynb\" target=\"_parent\"><img src=\"https://colab.research.google.com/assets/colab-badge.svg\" alt=\"Open In Colab\"/></a>"
      ]
    },
    {
      "cell_type": "markdown",
      "metadata": {
        "id": "rv2hYbl0slxO"
      },
      "source": [
        "### 문제 설명\n",
        "가로 길이가 Wcm, 세로 길이가 Hcm인 직사각형 종이가 있습니다. 종이에는 가로, 세로 방향과 평행하게 격자 형태로 선이 그어져 있으며, 모든 격자칸은 1cm x 1cm 크기입니다. 이 종이를 격자 선을 따라 1cm × 1cm의 정사각형으로 잘라 사용할 예정이었는데, 누군가가 이 종이를 대각선 꼭지점 2개를 잇는 방향으로 잘라 놓았습니다. 그러므로 현재 직사각형 종이는 크기가 같은 직각삼각형 2개로 나누어진 상태입니다. 새로운 종이를 구할 수 없는 상태이기 때문에, 이 종이에서 원래 종이의 가로, 세로 방향과 평행하게 1cm × 1cm로 잘라 사용할 수 있는 만큼만 사용하기로 하였습니다.\n",
        "가로의 길이 W와 세로의 길이 H가 주어질 때, 사용할 수 있는 정사각형의 개수를 구하는 solution 함수를 완성해 주세요."
      ]
    },
    {
      "cell_type": "code",
      "metadata": {
        "id": "0KLo7UQrsJOF"
      },
      "source": [
        "from math import gcd\n",
        "\n",
        "def solution(x,y):\n",
        "  return (x*y)-(x+y-gcd(x,y))"
      ],
      "execution_count": null,
      "outputs": []
    },
    {
      "cell_type": "markdown",
      "metadata": {
        "id": "7O-BD9snAJaZ"
      },
      "source": [
        "### Did you solve it alone?\n",
        "No"
      ]
    },
    {
      "cell_type": "markdown",
      "metadata": {
        "id": "-QQr2_jzAGej"
      },
      "source": [
        "### 이해하기\n",
        "\n",
        "w와 h가 공약수가 있다면 문제를 공약수로 나눈 w'와 h'로 축소시킬 수 있다.\n",
        "w'와 h'가 서로소라 가정했을 때 대각선은 반대쪽 코너에 도달하기 전 w'-1 세로선과 h'-1 가로선을 지나고 지날 때마다 새로운 정사각형이 추가된다.\n",
        "그래서 첫 정사각형을 포함 \n",
        "\n",
        "1+(w'-1)+(h'-1) = w'+h'-1개의 정사각형을 지나게 되므로 공약수를 다시 곱해주면 \n",
        "\n",
        "w+h-gcd(w.h)개의 정사각형을 지나는 것을 찾을 수 있다.\n"
      ]
    },
    {
      "cell_type": "code",
      "metadata": {
        "id": "GBBZ8wTpBWdq"
      },
      "source": [
        ""
      ],
      "execution_count": null,
      "outputs": []
    }
  ]
}