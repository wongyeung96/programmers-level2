{
  "nbformat": 4,
  "nbformat_minor": 0,
  "metadata": {
    "colab": {
      "name": "210401_스킬트리.ipynb",
      "provenance": [],
      "collapsed_sections": [],
      "authorship_tag": "ABX9TyO0w2+gBH54nOpDzFLefSPW",
      "include_colab_link": true
    },
    "kernelspec": {
      "name": "python3",
      "display_name": "Python 3"
    },
    "language_info": {
      "name": "python"
    }
  },
  "cells": [
    {
      "cell_type": "markdown",
      "metadata": {
        "id": "view-in-github",
        "colab_type": "text"
      },
      "source": [
        "<a href=\"https://colab.research.google.com/github/wongyeung96/programmers-level2/blob/main/210401~210402_%EC%8A%A4%ED%82%AC%ED%8A%B8%EB%A6%AC.ipynb\" target=\"_parent\"><img src=\"https://colab.research.google.com/assets/colab-badge.svg\" alt=\"Open In Colab\"/></a>"
      ]
    },
    {
      "cell_type": "markdown",
      "metadata": {
        "id": "ruLxlwhUnhhZ"
      },
      "source": [
        "### 문제 설명\n",
        "선행 스킬이란 어떤 스킬을 배우기 전에 먼저 배워야 하는 스킬을 뜻합니다.\n",
        "\n",
        "예를 들어 선행 스킬 순서가 스파크 → 라이트닝 볼트 → 썬더일때, 썬더를 배우려면 먼저 라이트닝 볼트를 배워야 하고, 라이트닝 볼트를 배우려면 먼저 스파크를 배워야 합니다.\n",
        "\n",
        "위 순서에 없는 다른 스킬(힐링 등)은 순서에 상관없이 배울 수 있습니다. 따라서 스파크 → 힐링 → 라이트닝 볼트 → 썬더와 같은 스킬트리는 가능하지만, 썬더 → 스파크나 라이트닝 볼트 → 스파크 → 힐링 → 썬더와 같은 스킬트리는 불가능합니다.\n",
        "\n",
        "선행 스킬 순서 skill과 유저들이 만든 스킬트리1를 담은 배열 skill_trees가 매개변수로 주어질 때, 가능한 스킬트리 개수를 return 하는 solution 함수를 작성해주세요."
      ]
    },
    {
      "cell_type": "code",
      "metadata": {
        "id": "9BL4VHWD_K_5"
      },
      "source": [
        "def solution(skill,skill_trees):\n",
        "  answer = 0\n",
        "  skill_dict = {}\n",
        "  # skill - > dictionary로 변환\n",
        "  for index,skills in enumerate(skill):\n",
        "    skill_dict[skills] = index\n",
        "\n",
        "  # ['BACDE'] -> ['B','A','C','D','E]\n",
        "  for i in range(len(skill_trees)):\n",
        "    skill_trees[i] = list(skill_trees[i])\n",
        " \n",
        "  # skill_trees[i] : ['B','A','C','D','E] -> [1,-1,0,2,-1]\n",
        "  # skill_trees[i] 가 ['B','A','C','D','E]이면 num : 5\n",
        "    for num in range(len(skill_trees[i])): \n",
        "      try:\n",
        "        skill_trees[i][num] = skill_dict[skill_trees[i][num]]\n",
        "      except:\n",
        "        skill_trees[i][num] = -1\n",
        "  # 마지막에 -1을 제외한 개수를 센 후 개수만큼 순서대로 있어야 한다.\n",
        "  # ex) [1,-1,0,2,-1]이면 [1,0,2] 3개이므로 이것은 [0,1,2]랑 같아야한다.\n",
        "    skill_trees[i] = list(filter(lambda a: a!=-1,skill_trees[i]))\n",
        "    length = len(skill_trees[i])\n",
        "    if list(range(0,length)) == skill_trees[i]:\n",
        "      answer += 1\n",
        "  \n",
        "  \n",
        "  return answer"
      ],
      "execution_count": 41,
      "outputs": []
    },
    {
      "cell_type": "code",
      "metadata": {
        "colab": {
          "base_uri": "https://localhost:8080/"
        },
        "id": "AhtOFFXUIzds",
        "outputId": "4a8c47a3-f937-4382-f0d3-cec59bf07eec"
      },
      "source": [
        "solution(\"CBD\",[\"BACDE\", \"CBADF\", \"AECB\", \"BDA\"])"
      ],
      "execution_count": 42,
      "outputs": [
        {
          "output_type": "execute_result",
          "data": {
            "text/plain": [
              "2"
            ]
          },
          "metadata": {
            "tags": []
          },
          "execution_count": 42
        }
      ]
    }
  ]
}