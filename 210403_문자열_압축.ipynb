{
  "nbformat": 4,
  "nbformat_minor": 0,
  "metadata": {
    "colab": {
      "name": "210403_문자열 압축.ipynb",
      "provenance": [],
      "collapsed_sections": [],
      "authorship_tag": "ABX9TyP7UOIXDP6WOpE48Lj+nWeT",
      "include_colab_link": true
    },
    "kernelspec": {
      "name": "python3",
      "display_name": "Python 3"
    },
    "language_info": {
      "name": "python"
    }
  },
  "cells": [
    {
      "cell_type": "markdown",
      "metadata": {
        "id": "view-in-github",
        "colab_type": "text"
      },
      "source": [
        "<a href=\"https://colab.research.google.com/github/wongyeung96/programmers-level2/blob/main/210403_%EB%AC%B8%EC%9E%90%EC%97%B4_%EC%95%95%EC%B6%95.ipynb\" target=\"_parent\"><img src=\"https://colab.research.google.com/assets/colab-badge.svg\" alt=\"Open In Colab\"/></a>"
      ]
    },
    {
      "cell_type": "markdown",
      "metadata": {
        "id": "y8sVoT0QgBKi"
      },
      "source": [
        "### 문제 설명\n",
        "데이터 처리 전문가가 되고 싶은 \"어피치\"는 문자열을 압축하는 방법에 대해 공부를 하고 있습니다. 최근에 대량의 데이터 처리를 위한 간단한 비손실 압축 방법에 대해 공부를 하고 있는데, 문자열에서 같은 값이 연속해서 나타나는 것을 그 문자의 개수와 반복되는 값으로 표현하여 더 짧은 문자열로 줄여서 표현하는 알고리즘을 공부하고 있습니다.\n",
        "간단한 예로 \"aabbaccc\"의 경우 \"2a2ba3c\"(문자가 반복되지 않아 한번만 나타난 경우 1은 생략함)와 같이 표현할 수 있는데, 이러한 방식은 반복되는 문자가 적은 경우 압축률이 낮다는 단점이 있습니다. 예를 들면, \"abcabcdede\"와 같은 문자열은 전혀 압축되지 않습니다. \"어피치\"는 이러한 단점을 해결하기 위해 문자열을 1개 이상의 단위로 잘라서 압축하여 더 짧은 문자열로 표현할 수 있는지 방법을 찾아보려고 합니다.\n",
        "\n",
        "예를 들어, \"ababcdcdababcdcd\"의 경우 문자를 1개 단위로 자르면 전혀 압축되지 않지만, 2개 단위로 잘라서 압축한다면 \"2ab2cd2ab2cd\"로 표현할 수 있습니다. 다른 방법으로 8개 단위로 잘라서 압축한다면 \"2ababcdcd\"로 표현할 수 있으며, 이때가 가장 짧게 압축하여 표현할 수 있는 방법입니다.\n",
        "\n",
        "다른 예로, \"abcabcdede\"와 같은 경우, 문자를 2개 단위로 잘라서 압축하면 \"abcabc2de\"가 되지만, 3개 단위로 자른다면 \"2abcdede\"가 되어 3개 단위가 가장 짧은 압축 방법이 됩니다. 이때 3개 단위로 자르고 마지막에 남는 문자열은 그대로 붙여주면 됩니다.\n",
        "\n",
        "압축할 문자열 s가 매개변수로 주어질 때, 위에 설명한 방법으로 1개 이상 단위로 문자열을 잘라 압축하여 표현한 문자열 중 가장 짧은 것의 길이를 return 하도록 solution 함수를 완성해주세요."
      ]
    },
    {
      "cell_type": "code",
      "metadata": {
        "id": "Vs9LY2rKR17T"
      },
      "source": [
        "import math\n",
        "\n",
        "def solution(s):\n",
        "  count_ = 1000\n",
        "  length = len(s)\n",
        "  mid_num = math.floor(length/2)\n",
        "\n",
        "  for i in range(1,mid_num+1):\n",
        "    answer = \"\"\n",
        "    count = 1\n",
        "    j = 0\n",
        "    while j <= ((length-i)//i)*i:\n",
        "      word = s[j:j+i] \n",
        "      if j < ((length-i)//i)*i:\n",
        "        word_2 = s[j+i:j+i+i]\n",
        "        if word == word_2:\n",
        "          count+=1\n",
        "        else:\n",
        "          if count == 1:\n",
        "            answer = answer +word\n",
        "          else:\n",
        "            answer = answer + str(count) +word\n",
        "            count =1\n",
        "      else: # 마지막\n",
        "        word_2 = s[j+i:]\n",
        "        if word == word_2:\n",
        "          answer = answer + str(count+1) +word\n",
        "        elif (count == 1) & (word != word_2) :\n",
        "          answer = answer + word + word_2\n",
        "        elif (count > 1)& (word != word_2):\n",
        "          answer = answer + str(count) + word + word_2\n",
        "      j += i\n",
        "    if count_>len(answer):\n",
        "      count_ = len(answer)\n",
        "  if len(s) == 1:\n",
        "    count_ = 1\n",
        "  return count_"
      ],
      "execution_count": 135,
      "outputs": []
    },
    {
      "cell_type": "code",
      "metadata": {
        "colab": {
          "base_uri": "https://localhost:8080/"
        },
        "id": "IZhacDA9lJhg",
        "outputId": "8352bba9-9667-4520-ff5e-9d62d9e54d47"
      },
      "source": [
        "solution(\"a\")"
      ],
      "execution_count": 136,
      "outputs": [
        {
          "output_type": "execute_result",
          "data": {
            "text/plain": [
              "1"
            ]
          },
          "metadata": {
            "tags": []
          },
          "execution_count": 136
        }
      ]
    },
    {
      "cell_type": "code",
      "metadata": {
        "colab": {
          "base_uri": "https://localhost:8080/"
        },
        "id": "KIWtBgwiiOjR",
        "outputId": "ec47f719-689e-4791-bc6d-a7280ba1ada1"
      },
      "source": [
        "solution(\"xxxxxxxxxxyyy\")"
      ],
      "execution_count": 122,
      "outputs": [
        {
          "output_type": "execute_result",
          "data": {
            "text/plain": [
              "5"
            ]
          },
          "metadata": {
            "tags": []
          },
          "execution_count": 122
        }
      ]
    },
    {
      "cell_type": "code",
      "metadata": {
        "colab": {
          "base_uri": "https://localhost:8080/"
        },
        "id": "TEBuKh3TiQgm",
        "outputId": "c23a627c-197f-451a-e7e2-09977a78e310"
      },
      "source": [
        "print(solution(\"aabbaccc\"))\n",
        "print(solution(\"ababcdcdababcdcd\"))\n",
        "print(solution(\"abcabcdede\"))\n",
        "print(solution(\"abcabcabcabcdededededede\"))\n",
        "print(solution(\"xababcdcdababcdcd\"))"
      ],
      "execution_count": 124,
      "outputs": [
        {
          "output_type": "stream",
          "text": [
            "7\n",
            "9\n",
            "8\n",
            "14\n",
            "17\n"
          ],
          "name": "stdout"
        }
      ]
    }
  ]
}