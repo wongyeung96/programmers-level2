{
  "nbformat": 4,
  "nbformat_minor": 0,
  "metadata": {
    "colab": {
      "name": "210405 괄호 변환.ipynb",
      "provenance": [],
      "collapsed_sections": [],
      "authorship_tag": "ABX9TyPPGTa6S+4SSGpfkO2EUQ/P",
      "include_colab_link": true
    },
    "kernelspec": {
      "name": "python3",
      "display_name": "Python 3"
    },
    "language_info": {
      "name": "python"
    }
  },
  "cells": [
    {
      "cell_type": "markdown",
      "metadata": {
        "id": "view-in-github",
        "colab_type": "text"
      },
      "source": [
        "<a href=\"https://colab.research.google.com/github/wongyeung96/programmers-level2/blob/main/210405_%EA%B4%84%ED%98%B8_%EB%B3%80%ED%99%98.ipynb\" target=\"_parent\"><img src=\"https://colab.research.google.com/assets/colab-badge.svg\" alt=\"Open In Colab\"/></a>"
      ]
    },
    {
      "cell_type": "markdown",
      "metadata": {
        "id": "zFxpT853Tgqj"
      },
      "source": [
        "\n",
        "### 문제 설명\n",
        "카카오에 신입 개발자로 입사한 \"콘\"은 선배 개발자로부터 개발역량 강화를 위해 다른 개발자가 작성한 소스 코드를 분석하여 문제점을 발견하고 수정하라는 업무 과제를 받았습니다. 소스를 컴파일하여 로그를 보니 대부분 소스 코드 내 작성된 괄호가 개수는 맞지만 짝이 맞지 않은 형태로 작성되어 오류가 나는 것을 알게 되었습니다.\n",
        "수정해야 할 소스 파일이 너무 많아서 고민하던 \"콘\"은 소스 코드에 작성된 모든 괄호를 뽑아서 올바른 순서대로 배치된 괄호 문자열을 알려주는 프로그램을 다음과 같이 개발하려고 합니다."
      ]
    },
    {
      "cell_type": "markdown",
      "metadata": {
        "id": "552d3IHrsEtA"
      },
      "source": [
        "### 용어의 정의\n",
        "'(' 와 ')' 로만 이루어진 문자열이 있을 경우, '(' 의 개수와 ')' 의 개수가 같다면 이를 균형잡힌 괄호 문자열이라고 부릅니다.\n",
        "그리고 여기에 '('와 ')'의 괄호의 짝도 모두 맞을 경우에는 이를 올바른 괄호 문자열이라고 부릅니다.\n",
        "예를 들어, \"(()))(\"와 같은 문자열은 \"균형잡힌 괄호 문자열\" 이지만 \"올바른 괄호 문자열\"은 아닙니다.\n",
        "반면에 \"(())()\"와 같은 문자열은 \"균형잡힌 괄호 문자열\" 이면서 동시에 \"올바른 괄호 문자열\" 입니다.\n",
        "\n",
        "'(' 와 ')' 로만 이루어진 문자열 w가 \"균형잡힌 괄호 문자열\" 이라면 다음과 같은 과정을 통해 \"올바른 괄호 문자열\"로 변환할 수 있습니다."
      ]
    },
    {
      "cell_type": "markdown",
      "metadata": {
        "id": "fJd-Fu0ruUTp"
      },
      "source": [
        "1. 입력이 빈 문자열인 경우, 빈 문자열을 반환합니다. \n",
        "2. 문자열 w를 두 \"균형잡힌 괄호 문자열\" u, v로 분리합니다. 단, u는 \"균형잡힌 괄호 문자열\"로 더 이상 분리할 수 없어야 하며, v는 빈 문자열이 될 수 있습니다. \n",
        "3. 문자열 u가 \"올바른 괄호 문자열\" 이라면 문자열 v에 대해 1단계부터 다시 수행합니다. \n",
        "\n",
        "  3-1. 수행한 결과 문자열을 u에 이어 붙인 후 반환합니다. \n",
        "\n",
        "4. 문자열 u가 \"올바른 괄호 문자열\"이 아니라면 아래 과정을 수행합니다. \n",
        "\n",
        "  4-1. 빈 문자열에 첫 번째 문자로 '('를 붙입니다. \n",
        "\n",
        "  4-2. 문자열 v에 대해 1단계부터 재귀적으로 수행한 결과 문자열을 이어 붙입니다. \n",
        "\n",
        "  4-3. ')'를 다시 붙입니다. \n",
        "\n",
        "  4-4. u의 첫 번째와 마지막 문자를 제거하고, 나머지 문자열의 괄호 방향을 뒤집어서 뒤에 붙입니다. \n",
        "\n",
        "  4-5. 생성된 문자열을 반환합니다."
      ]
    },
    {
      "cell_type": "code",
      "metadata": {
        "id": "8xXT9oHboNRj"
      },
      "source": [
        "import math\n",
        "answer = \"\"\n",
        "u = []\n",
        "v = []\n",
        "\n",
        "class zero:\n",
        "  def __init__(self, p,answer,u,v):\n",
        "    self.p = p\n",
        "    self.u = u\n",
        "    self.v = v\n",
        "    self.answer = answer\n",
        "    if self.p == \"\":\n",
        "      answer += p\n",
        "  \n",
        "  def separate(self):\n",
        "    lis_p = list(self.p)\n",
        "    self.u = [lis_p.pop(0)]\n",
        "    self.v = []\n",
        "    dic = {\"(\":u.count(\"(\"),\")\":u.count(\")\")}\n",
        "\n",
        "    while dic[\"(\"] != dic[\")\"]:\n",
        "      if dic[\"(\"] == dic[\")\"]:\n",
        "        break\n",
        "      else:\n",
        "        self.u.append(lis_p.pop(0))\n",
        "        if self.u[-1] == \"(\":\n",
        "          dic[\"(\"] += 1\n",
        "        else:\n",
        "          dic[\")\"] += 1 \n",
        "    self.v = lis_p\n",
        "    return self.u,self.v\n",
        "\n",
        "\n"
      ],
      "execution_count": null,
      "outputs": []
    },
    {
      "cell_type": "code",
      "metadata": {
        "id": "PR1qebd_JG92"
      },
      "source": [
        "# 1단계 : 입력이 빈 문자열이면 빈 문자열 반환\n",
        "\n",
        "answer = \"\"\n",
        "length=len(p) # 초기 p 값의 길이\n",
        "while len(answer) == length:\n",
        "  if p==\"\":\n",
        "    return p\n",
        "  else:\n",
        "    separate(p)\n",
        "    right_balance(u)"
      ],
      "execution_count": null,
      "outputs": []
    },
    {
      "cell_type": "code",
      "metadata": {
        "id": "ALpcGR4IJk0-"
      },
      "source": [
        "# 2단계 : u와 v 분리하는 함수\n",
        "import math\n",
        "\n",
        "def separate(p):\n",
        "  if p==\"\":\n",
        "    return p\n",
        "  lis_p = list(p)\n",
        "  u = [lis_p.pop(0)]\n",
        "  v = []\n",
        "  dic = {\"(\":u.count(\"(\"),\")\":u.count(\")\")}\n",
        "\n",
        "  while dic[\"(\"] != dic[\")\"]:\n",
        "    if dic[\"(\"] == dic[\")\"]:\n",
        "      break\n",
        "    else:\n",
        "      u.append(lis_p.pop(0))\n",
        "      if u[-1] == \"(\":\n",
        "        dic[\"(\"] += 1\n",
        "      else:\n",
        "        dic[\")\"] += 1 \n",
        "  v = lis_p\n",
        "  return u,v"
      ],
      "execution_count": 3,
      "outputs": []
    },
    {
      "cell_type": "code",
      "metadata": {
        "colab": {
          "base_uri": "https://localhost:8080/"
        },
        "id": "Dpfu-XQqnGy4",
        "outputId": "a5c49bf6-1b86-4eed-de55-d6056303d30b"
      },
      "source": [
        "p = \"()))((()\"\n",
        "separate(p)"
      ],
      "execution_count": 4,
      "outputs": [
        {
          "output_type": "execute_result",
          "data": {
            "text/plain": [
              "(['(', ')'], [')', ')', '(', '(', '(', ')'])"
            ]
          },
          "metadata": {
            "tags": []
          },
          "execution_count": 4
        }
      ]
    },
    {
      "cell_type": "code",
      "metadata": {
        "id": "v0m7PBbmHLV3"
      },
      "source": [
        "# u가 올바른 괄호 문자열인지 균형잡힌 괄호 문자열인지 확인하는 함수\n",
        "def right_balance(u):\n",
        "  sum = 0\n",
        "  dic_score = {\"(\":1,\")\":-1}\n",
        "  u_ = \"\" # u의 형태\n",
        "  for i in u:\n",
        "    if sum + dic_score[i] == -1:\n",
        "      u_ = \"균형잡힌 괄호 문자열\"\n",
        "      break\n",
        "    else:\n",
        "      sum += dic_score[i]\n",
        "  else:\n",
        "    u_=\"올바른 문자열\"\n",
        "    answer+=u\n",
        "    p = v"
      ],
      "execution_count": null,
      "outputs": []
    },
    {
      "cell_type": "code",
      "metadata": {
        "colab": {
          "base_uri": "https://localhost:8080/"
        },
        "id": "gD7DFqWBGLgR",
        "outputId": "3d2152e2-a208-410a-a0a3-7089028289f3"
      },
      "source": [
        "u = [\"(\",\"(\",\")\",\")\"] \n",
        "sum = 0\n",
        "dic_score = {\"(\":1,\")\":-1}\n",
        "for i in u:\n",
        "  if sum + dic_score[i] == -1:\n",
        "    print(\"균형잡힌 괄호 문자열\")\n",
        "    break\n",
        "  else:\n",
        "    sum += dic_score[i]\n",
        "else:\n",
        "  print(\"올바른 문자열\")"
      ],
      "execution_count": null,
      "outputs": [
        {
          "output_type": "stream",
          "text": [
            "올바른 문자열\n"
          ],
          "name": "stdout"
        }
      ]
    },
    {
      "cell_type": "code",
      "metadata": {
        "id": "68vxuEDlTFoh"
      },
      "source": [
        "def solution(p):\n",
        "    answer = ''\n",
        "    return answer"
      ],
      "execution_count": null,
      "outputs": []
    },
    {
      "cell_type": "code",
      "metadata": {
        "id": "rrQdspSHTjoN"
      },
      "source": [
        "solution(\"(()())()\")   # \"(()())()\"\n",
        "solution(\")(\")         # \"()\"\n",
        "solution(\"()))((()\")   # \"()(())()\""
      ],
      "execution_count": null,
      "outputs": []
    },
    {
      "cell_type": "markdown",
      "metadata": {
        "id": "EvSxrbBkT7sE"
      },
      "source": [
        "### Did you solve alone?\n"
      ]
    },
    {
      "cell_type": "markdown",
      "metadata": {
        "id": "CKdVg6VvT_QF"
      },
      "source": [
        "### 문제 풀이"
      ]
    }
  ]
}