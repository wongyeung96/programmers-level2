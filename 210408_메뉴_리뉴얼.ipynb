{
  "nbformat": 4,
  "nbformat_minor": 0,
  "metadata": {
    "colab": {
      "name": "210408_메뉴 리뉴얼.ipynb",
      "provenance": [],
      "collapsed_sections": [
        "1VcSqiUopxeP",
        "k_S-sw54p6Il",
        "EelSFZGw6nk_"
      ],
      "authorship_tag": "ABX9TyPJzz+csOJQJRPwwtXawh+C",
      "include_colab_link": true
    },
    "kernelspec": {
      "name": "python3",
      "display_name": "Python 3"
    },
    "language_info": {
      "name": "python"
    }
  },
  "cells": [
    {
      "cell_type": "markdown",
      "metadata": {
        "id": "view-in-github",
        "colab_type": "text"
      },
      "source": [
        "<a href=\"https://colab.research.google.com/github/wongyeung96/programmers-level2/blob/main/210408_%EB%A9%94%EB%89%B4_%EB%A6%AC%EB%89%B4%EC%96%BC.ipynb\" target=\"_parent\"><img src=\"https://colab.research.google.com/assets/colab-badge.svg\" alt=\"Open In Colab\"/></a>"
      ]
    },
    {
      "cell_type": "markdown",
      "metadata": {
        "id": "1VcSqiUopxeP"
      },
      "source": [
        "###문제 설명\n",
        "레스토랑을 운영하던 스카피는 코로나19로 인한 불경기를 극복하고자 메뉴를 새로 구성하려고 고민하고 있습니다.\n",
        "기존에는 단품으로만 제공하던 메뉴를 조합해서 코스요리 형태로 재구성해서 새로운 메뉴를 제공하기로 결정했습니다. 어떤 단품메뉴들을 조합해서 코스요리 메뉴로 구성하면 좋을 지 고민하던 \"스카피\"는 이전에 각 손님들이 주문할 때 가장 많이 함께 주문한 단품메뉴들을 코스요리 메뉴로 구성하기로 했습니다.\n",
        "단, 코스요리 메뉴는 최소 2가지 이상의 단품메뉴로 구성하려고 합니다. 또한, 최소 2명 이상의 손님으로부터 주문된 단품메뉴 조합에 대해서만 코스요리 메뉴 후보에 포함하기로 했습니다.\n",
        "\n",
        "예를 들어, 손님 6명이 주문한 단품메뉴들의 조합이 다음과 같다면,\n",
        "(각 손님은 단품메뉴를 2개 이상 주문해야 하며, 각 단품메뉴는 A ~ Z의 알파벳 대문자로 표기합니다.)\n",
        "\n",
        "손님 번호\t주문한 단품메뉴 조합\n",
        "\n",
        "1번 손님\tA, B, C, F, G\n",
        "\n",
        "2번 손님\tA, C\n",
        "\n",
        "3번 손님\tC, D, E\n",
        "\n",
        "4번 손님\tA, C, D, E\n",
        "\n",
        "5번 손님\tB, C, F, G\n",
        "\n",
        "6번 손님\tA, C, D, E, H\n",
        "\n",
        "가장 많이 함께 주문된 단품메뉴 조합에 따라 \"스카피\"가 만들게 될 코스요리 메뉴 구성 후보는 다음과 같습니다.\n",
        "\n",
        "코스 종류\t메뉴 구성\t설명\n",
        "\n",
        "요리 2개 코스\tA, C\t1번, 2번, 4번, 6번 손님으로부터 총 4번 주문됐습니다.\n",
        "\n",
        "요리 3개 코스\tC, D, E\t3번, 4번, 6번 손님으로부터 총 3번 주문됐습니다.\n",
        "\n",
        "요리 4개 코스\tB, C, F, G\t1번, 5번 손님으로부터 총 2번 주문됐습니다.\n",
        "\n",
        "요리 4개 코스\tA, C, D, E\t4번, 6번 손님으로부터 총 2번 주문됐습니다."
      ]
    },
    {
      "cell_type": "markdown",
      "metadata": {
        "id": "k_S-sw54p6Il"
      },
      "source": [
        "### [문제]\n",
        "각 손님들이 주문한 단품메뉴들이 문자열 형식으로 담긴 배열 orders, \"스카피\"가 추가하고 싶어하는 코스요리를 구성하는 단품메뉴들의 갯수가 담긴 배열 course가 매개변수로 주어질 때, \"스카피\"가 새로 추가하게 될 코스요리의 메뉴 구성을 문자열 형태로 배열에 담아 return 하도록 solution 함수를 완성해 주세요."
      ]
    },
    {
      "cell_type": "markdown",
      "metadata": {
        "id": "F30r2N9W3D6V"
      },
      "source": [
        "### [제한사항]\n",
        "- orders 배열의 크기는 2 이상 20 이하입니다.\n",
        "- orders 배열의 각 원소는 크기가 2 이상 10 이하인 문자열입니다.\n",
        "  - 각 문자열은 알파벳 대문자로만 이루어져 있습니다.\n",
        "  - 각 문자열에는 같은 알파벳이 중복해서 들어있지 않습니다.\n",
        "- course 배열의 크기는 1 이상 10 이하입니다.\n",
        "  - course 배열의 각 원소는 2 이상 10 이하인 자연수가 \n",
        "   오름차순으로 정렬되어 있습니다.\n",
        "  - course 배열에는 같은 값이 중복해서 들어있지 않습니다.\n",
        "- 정답은 각 코스요리 메뉴의 구성을 문자열 형식으로 배열에 담아 사전 순으로 오름차순 정렬해서 return 해주세요.\n",
        "  - 배열의 각 원소에 저장된 문자열 또한 알파벳 오름차순으로 정렬되어야 합니다.\n",
        "  - 만약 가장 많이 함께 주문된 메뉴 구성이 여러 개라면, 모두 배열에 담아 return 하면 됩니다.\n",
        "  - orders와 course 매개변수는 return 하는 배열의 길이가 1 이상이 되도록 주어집니다.\n"
      ]
    },
    {
      "cell_type": "markdown",
      "metadata": {
        "id": "rT1Jlhu_6N4q"
      },
      "source": [
        "#### 내가 푼 풀이"
      ]
    },
    {
      "cell_type": "code",
      "metadata": {
        "id": "QboQLX3c12TN"
      },
      "source": [
        "from itertools import combinations,chain\n",
        "# \n",
        "def solution(orders,course):\n",
        "  answer = []\n",
        "  for num in course:\n",
        "    lists = [] # 각 주문 당 나오는 조합 문자열 리스트 ex)\"ABCFG\"이면 ['AB', 'AC', 'AF', 'AG', 'BC', 'BF', 'BG', 'CF', 'CG', 'FG']\n",
        "    dic = {}   # 카운트\n",
        "    for i in orders:\n",
        "      lists.append(list(map(lambda x:\"\".join(sorted(x)),list(combinations(list(i),num))))) # 각 주문 당 나오는 조합 문자열 리스트 만들기\n",
        "    lists = list(chain(*lists))\n",
        "    for i in lists:\n",
        "      dic[i] = lists.count(i)\n",
        "    for i in [k for k,v in dic.items() if (max(dic.values()) == v)&(max(dic.values()) > 1)]:\n",
        "      answer.append(i)\n",
        "  return sorted(answer)"
      ],
      "execution_count": 70,
      "outputs": []
    },
    {
      "cell_type": "markdown",
      "metadata": {
        "id": "_l1wbszJ6Q1k"
      },
      "source": [
        "#### 다른 사람이 푼 풀이\n",
        "\n",
        "나와는 다르게 list를 dictionary로 바꿔줄 때 collections.Counter 를 이용했다."
      ]
    },
    {
      "cell_type": "code",
      "metadata": {
        "id": "v4J1LquT4iBd"
      },
      "source": [
        "from itertools import combinations,chain\n",
        "from collections import Counter\n",
        "\n",
        "def solution(orders,course):\n",
        "  answer = []\n",
        "  for num in course:\n",
        "    lists = [] # 각 주문 당 나오는 조합 문자열 리스트 ex)\"ABCFG\"이면 ['AB', 'AC', 'AF', 'AG', 'BC', 'BF', 'BG', 'CF', 'CG', 'FG']\n",
        "    for i in orders:\n",
        "      lists.append(list(map(lambda x:\"\".join(sorted(x)),list(combinations(list(i),num))))) # 각 주문 당 나오는 조합 문자열 리스트 만들기\n",
        "    lists = list(chain(*lists))\n",
        "    dic = Counter(lists)\n",
        "    for i in [k for k,v in dic.items() if (max(dic.values()) == v)&(max(dic.values()) > 1)]:\n",
        "      answer.append(i)\n",
        "  return sorted(answer)"
      ],
      "execution_count": 75,
      "outputs": []
    },
    {
      "cell_type": "code",
      "metadata": {
        "colab": {
          "base_uri": "https://localhost:8080/"
        },
        "id": "-klId1EISKTF",
        "outputId": "03a552ad-eb43-4e1b-d748-2f85fca71ed6"
      },
      "source": [
        "solution([\"ABCFG\", \"AC\", \"CDE\", \"ACDE\", \"BCFG\", \"ACDEH\"],[2,3,4])"
      ],
      "execution_count": 76,
      "outputs": [
        {
          "output_type": "execute_result",
          "data": {
            "text/plain": [
              "['AC', 'ACDE', 'BCFG', 'CDE']"
            ]
          },
          "metadata": {
            "tags": []
          },
          "execution_count": 76
        }
      ]
    },
    {
      "cell_type": "code",
      "metadata": {
        "colab": {
          "base_uri": "https://localhost:8080/"
        },
        "id": "_tIz83LiW9l8",
        "outputId": "71c665e0-a8f3-4d74-fede-4b1f8442e8af"
      },
      "source": [
        "solution([\"ABCDE\", \"AB\", \"CD\", \"ADE\", \"XYZ\", \"XYZ\", \"ACD\"],[2,3,5]) # [\"ACD\", \"AD\", \"ADE\", \"CD\", \"XYZ\"]"
      ],
      "execution_count": 73,
      "outputs": [
        {
          "output_type": "execute_result",
          "data": {
            "text/plain": [
              "['ACD', 'AD', 'ADE', 'CD', 'XYZ']"
            ]
          },
          "metadata": {
            "tags": []
          },
          "execution_count": 73
        }
      ]
    },
    {
      "cell_type": "code",
      "metadata": {
        "id": "4vRkDmvJ2vWr",
        "colab": {
          "base_uri": "https://localhost:8080/"
        },
        "outputId": "c82ef8c7-2170-46e7-f7ab-9faa0eb99832"
      },
      "source": [
        "solution([\"XYZ\", \"XWY\", \"WXA\"],[2,3,4])                             # [\"WX\", \"XY\"]"
      ],
      "execution_count": 74,
      "outputs": [
        {
          "output_type": "execute_result",
          "data": {
            "text/plain": [
              "['WX', 'XY']"
            ]
          },
          "metadata": {
            "tags": []
          },
          "execution_count": 74
        }
      ]
    },
    {
      "cell_type": "markdown",
      "metadata": {
        "id": "re7tkhTJ3naD"
      },
      "source": [
        "### Did you solve alone?\n",
        "Yes,,, i love \"for\"..."
      ]
    },
    {
      "cell_type": "markdown",
      "metadata": {
        "id": "EelSFZGw6nk_"
      },
      "source": [
        "# 문제풀이\n",
        "1. 주문 당 나오는 조합 문자열 리스트를 만든다.\n",
        "\n",
        "그럼 lists = [[주문1 조합 리스트],[주문2 조합 리스트],[주문3 조합 리스트],,,]\n",
        "\n",
        "이렇게 나온다.\n",
        "\n",
        "2. list(chain(*리스트))를 이용해서 위 lists를 1차원 리스트로 만들어준다.\n",
        "\n",
        "3. 각 문자열 조합의 개수를 세기 위해 lists를 dictionary에 추가해준다.\n",
        "\n",
        "  ex) dic[\"AB\"] = lists.count(\"AB\") \n",
        "\n",
        "4. course 별로 제일 개수가 많은 조합 문자열을 answer에 append 해준다.\n",
        "\n",
        "5. answer를 알파벳 순으로 정렬해주기 위해 sorted를 해주면서 return 해준다."
      ]
    },
    {
      "cell_type": "code",
      "metadata": {
        "id": "qTMpI7id6IOn"
      },
      "source": [
        ""
      ],
      "execution_count": null,
      "outputs": []
    }
  ]
}