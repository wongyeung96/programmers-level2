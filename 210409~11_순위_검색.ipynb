{
  "nbformat": 4,
  "nbformat_minor": 0,
  "metadata": {
    "colab": {
      "name": "210409_순위 검색.ipynb",
      "provenance": [],
      "collapsed_sections": [],
      "authorship_tag": "ABX9TyOKxOdpEJoumg+P7ZAlrPiW",
      "include_colab_link": true
    },
    "kernelspec": {
      "name": "python3",
      "display_name": "Python 3"
    },
    "language_info": {
      "name": "python"
    }
  },
  "cells": [
    {
      "cell_type": "markdown",
      "metadata": {
        "id": "view-in-github",
        "colab_type": "text"
      },
      "source": [
        "<a href=\"https://colab.research.google.com/github/wongyeung96/programmers-level2/blob/main/210409~11_%EC%88%9C%EC%9C%84_%EA%B2%80%EC%83%89.ipynb\" target=\"_parent\"><img src=\"https://colab.research.google.com/assets/colab-badge.svg\" alt=\"Open In Colab\"/></a>"
      ]
    },
    {
      "cell_type": "markdown",
      "metadata": {
        "id": "EYdbHkbLnRd8"
      },
      "source": [
        "### 문제 설명\n",
        "\n",
        "카카오는 하반기 경력 개발자 공개채용을 진행 중에 있으며 현재 지원서 접수와 코딩테스트가 종료되었습니다. 이번 채용에서 지원자는 지원서 작성 시 아래와 같이 4가지 항목을 반드시 선택하도록 하였습니다.\n",
        "\n",
        "- 코딩테스트 참여 개발언어 항목에 cpp, java, python 중 하나를 선택해야 합니다.\n",
        "- 지원 직군 항목에 backend와 frontend 중 하나를 선택해야 합니다.\n",
        "- 지원 경력구분 항목에 junior와 senior 중 하나를 선택해야 합니다.\n",
        "- 선호하는 소울푸드로 chicken과 pizza 중 하나를 선택해야 합니다.\n",
        "\n",
        "인재영입팀에 근무하고 있는 니니즈는 코딩테스트 결과를 분석하여 채용에 참여한 개발팀들에 제공하기 위해 지원자들의 지원 조건을 선택하면 해당 조건에 맞는 지원자가 몇 명인 지 쉽게 알 수 있는 도구를 만들고 있습니다.\n",
        "\n",
        "예를 들어, 개발팀에서 궁금해하는 문의사항은 다음과 같은 형태가 될 수 있습니다.\n",
        "\n",
        "\"코딩테스트에 java로 참여했으며, backend 직군을 선택했고, junior 경력이면서, 소울푸드로 pizza를 선택한 사람 중 코딩테스트 점수를 50점 이상 받은 지원자는 몇 명인가?\"\n",
        "\n",
        "물론 이 외에도 각 개발팀의 상황에 따라 아래와 같이 다양한 형태의 문의가 있을 수 있습니다.\n",
        "\n",
        "- 코딩테스트에 python으로 참여했으며, frontend 직군을 선택했고, senior 경력이면서, 소울푸드로 chicken을 선택한 사람 중 코딩테스트 점수를 100점 이상 받은 사람은 모두 몇 명인가?\n",
        "- 코딩테스트에 cpp로 참여했으며, senior 경력이면서, 소울푸드로 pizza를 선택한 사람 중 코딩테스트 점수를 100점 이상 받은 사람은 모두 몇 명인가?\n",
        "- backend 직군을 선택했고, senior 경력이면서 코딩테스트 점수를 200점 이상 받은 사람은 모두 몇 명인가?\n",
        "- 소울푸드로 chicken을 선택한 사람 중 코딩테스트 점수를 250점 이상 받은 사람은 모두 몇 명인가?\n",
        "- 코딩테스트 점수를 150점 이상 받은 사람은 모두 몇 명인가?\n",
        "\n",
        "즉, 개발팀에서 궁금해하는 내용은 다음과 같은 형태를 갖습니다.\n",
        "\n",
        "* [조건]을 만족하는 사람 중 코딩테스트 점수를 X점 이상 받은 사람은 모두 몇 명인가?"
      ]
    },
    {
      "cell_type": "markdown",
      "metadata": {
        "id": "M84UMdSjnZX-"
      },
      "source": [
        "### [문제]\n",
        "지원자가 지원서에 입력한 4가지의 정보와 획득한 코딩테스트 점수를 하나의 문자열로 구성한 값의 배열 info, 개발팀이 궁금해하는 문의조건이 문자열 형태로 담긴 배열 query가 매개변수로 주어질 때,\n",
        "각 문의조건에 해당하는 사람들의 숫자를 순서대로 배열에 담아 return 하도록 solution 함수를 완성해 주세요.\n",
        "\n",
        "\n",
        "\n"
      ]
    },
    {
      "cell_type": "markdown",
      "metadata": {
        "id": "5zbA82MH5Ijg"
      },
      "source": [
        "#### 1단계\n",
        "info를 \" \" 기준으로 나눈 후 dataframe으로 만든다.\n",
        "\n",
        "열이름은 tool, apply, career, soul_food, score로 한다.\n",
        "\n",
        "\n"
      ]
    },
    {
      "cell_type": "code",
      "metadata": {
        "id": "t57xYFidqAEv"
      },
      "source": [
        "import pandas as pd\n",
        "import numpy as np\n",
        "\n",
        "def solution(infos, querys):\n",
        "  answer = list(np.zeros(len(querys)))\n",
        "\n",
        "  # query를 list 형태로 만들어주기 0:tool. 1:apply. 2:career, 3:soul_food, 4:score\n",
        "  for index,query in enumerate(querys):\n",
        "    query = query.replace(\" and \",\" \").split(\" \")\n",
        "    for info in infos:\n",
        "      # info를 dataframe으로 만들어주기\n",
        "      info = info.split(\" \")\n",
        "      if int(info[4]) >= int(query[4]):\n",
        "        if (info[3] == query[3])|(query[3]=='-'):\n",
        "          if (info[2] == query[2])|(query[2]=='-'):\n",
        "            if (info[1] == query[1])|(query[1]=='-'):\n",
        "              if (info[0] == query[0])|(query[0]=='-'):\n",
        "                answer[index] += 1\n",
        "  return answer"
      ],
      "execution_count": 84,
      "outputs": []
    },
    {
      "cell_type": "markdown",
      "metadata": {
        "id": "ng-WnYX4wmiP"
      },
      "source": [
        "위 코드는 정확성만 100%인 코드"
      ]
    },
    {
      "cell_type": "code",
      "metadata": {
        "id": "4ZG3cZ4bGOmw"
      },
      "source": [
        "from itertools import combinations\n",
        "def solution(info, query):\n",
        "    answer = []\n",
        "    db = {}\n",
        "    for i in info:                   # info에 대해 반복\n",
        "        temp = i.split()\n",
        "        conditions = temp[:-1]       # 조건들만 모으고, 점수 따로\n",
        "        score = int(temp[-1])  \n",
        "        for n in range(5):           # 조건들에 대해 조합을 이용해서  \n",
        "            combi = list(combinations(range(4), n))\n",
        "            for c in combi:\n",
        "                t_c = conditions.copy()\n",
        "                for v in c:          # '-'를 포함한 새로운 조건을 만들어냄.\n",
        "                    t_c[v] = '-'\n",
        "                changed_t_c = '/'.join(t_c)\n",
        "                if changed_t_c in db:     # 모든 조건의 경우에 수에 대해 딕셔너리\n",
        "                    db[changed_t_c].append(score)\n",
        "                else:\n",
        "                    db[changed_t_c] = [score]\n",
        "\n",
        "    for value in db.values():             # 딕셔너리 내 모든 값 정렬\n",
        "        value.sort()\n",
        " \n",
        "    for q in query:                       # query의 모든 조건에 대해서\n",
        "        qry = [i for i in q.split() if i != 'and']\n",
        "        qry_cnd = '/'.join(qry[:-1])\n",
        "        qry_score = int(qry[-1])\n",
        "        if qry_cnd in db:                 # 딕셔너리 내에 값이 존재한다면,\n",
        "            data = db[qry_cnd]\n",
        "            if len(data) > 0:          \n",
        "                start, end = 0, len(data)     # lower bound 알고리즘 통해 인덱스 찾고,\n",
        "                while start != end and start != len(data):\n",
        "                    if data[(start + end) // 2] >= qry_score:\n",
        "                        end = (start + end) // 2\n",
        "                    else:\n",
        "                        start = (start + end) // 2 + 1\n",
        "                answer.append(len(data) - start)      # 해당 인덱스부터 끝까지의 갯수가 정답\n",
        "        else:\n",
        "            answer.append(0)\n",
        "\n",
        "    return answer"
      ],
      "execution_count": null,
      "outputs": []
    },
    {
      "cell_type": "markdown",
      "metadata": {
        "id": "UO7z_RMvBbUZ"
      },
      "source": [
        "위 코드는 적합, 효율 둘 다 100점인 코드 예시"
      ]
    },
    {
      "cell_type": "code",
      "metadata": {
        "colab": {
          "base_uri": "https://localhost:8080/"
        },
        "id": "fLJfLIKfhlkp",
        "outputId": "074c3e5a-c242-4f97-a961-d2498a913ce4"
      },
      "source": [
        "infos = [\"java backend junior pizza 150\",\n",
        "        \"python frontend senior chicken 210\",\n",
        "        \"python frontend senior chicken 150\",\n",
        "        \"cpp backend senior pizza 260\",\n",
        "        \"java backend junior chicken 80\",\n",
        "        \"python backend senior chicken 50\"]\n",
        "query = [\"java and backend and junior and pizza 100\",\n",
        "         \"python and frontend and senior and chicken 200\",\n",
        "         \"cpp and - and senior and pizza 250\",\n",
        "         \"- and backend and senior and - 150\",\n",
        "         \"- and - and - and chicken 100\",\n",
        "         \"- and - and - and - 150\"]\n",
        "solution(infos,query)"
      ],
      "execution_count": 156,
      "outputs": [
        {
          "output_type": "execute_result",
          "data": {
            "text/plain": [
              "[1, 1, 1, 1, 2, 4]"
            ]
          },
          "metadata": {
            "tags": []
          },
          "execution_count": 156
        }
      ]
    },
    {
      "cell_type": "markdown",
      "metadata": {
        "id": "-tPLo-YjGh0w"
      },
      "source": [
        "### Did you solve alone?\n",
        "YEs,,, No,,\n",
        "적합성만 100점인 경우는 풀었지만\n",
        "효율성 부분까지 100점인 것은 도움을 받았다."
      ]
    }
  ]
}