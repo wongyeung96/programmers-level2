{
  "nbformat": 4,
  "nbformat_minor": 0,
  "metadata": {
    "colab": {
      "name": "210414_튜플.ipynb",
      "provenance": [],
      "collapsed_sections": [],
      "authorship_tag": "ABX9TyMeIrOR7aFyinBIkeS5Ac+/",
      "include_colab_link": true
    },
    "kernelspec": {
      "name": "python3",
      "display_name": "Python 3"
    },
    "language_info": {
      "name": "python"
    }
  },
  "cells": [
    {
      "cell_type": "markdown",
      "metadata": {
        "id": "view-in-github",
        "colab_type": "text"
      },
      "source": [
        "<a href=\"https://colab.research.google.com/github/wongyeung96/programmers-level2/blob/main/210414_%ED%8A%9C%ED%94%8C.ipynb\" target=\"_parent\"><img src=\"https://colab.research.google.com/assets/colab-badge.svg\" alt=\"Open In Colab\"/></a>"
      ]
    },
    {
      "cell_type": "markdown",
      "metadata": {
        "id": "Wu7TFpI32BjC"
      },
      "source": [
        "### 문제설명\n",
        "\n",
        "셀수있는 수량의 순서있는 열거 또는 어떤 순서를 따르는 요소들의 모음을 튜플(tuple)이라고 합니다. n개의 요소를 가진 튜플을 n-튜플(n-tuple)이라고 하며, 다음과 같이 표현할 수 있습니다.\n",
        "\n",
        "- (a1, a2, a3, ..., an)\n",
        "\n",
        "튜플은 다음과 같은 성질을 가지고 있습니다.\n",
        "\n",
        "1. 중복된 원소가 있을 수 있습니다. ex : (2, 3, 1, 2)\n",
        "2. 원소에 정해진 순서가 있으며, 원소의 순서가 다르면 서로 다른 튜플입니다. ex : (1, 2, 3) ≠ (1, 3, 2)\n",
        "3. 튜플의 원소 개수는 유한합니다.\n",
        "\n",
        "원소의 개수가 n개이고, 중복되는 원소가 없는 튜플 (a1, a2, a3, ..., an)이 주어질 때(단, a1, a2, ..., an은 자연수), 이는 다음과 같이 집합 기호 '{', '}'를 이용해 표현할 수 있습니다.\n",
        "\n",
        "- {{a1}, {a1, a2}, {a1, a2, a3}, {a1, a2, a3, a4}, ... {a1, a2, a3, a4, ..., an}}\n",
        "\n",
        "예를 들어 튜플이 (2, 1, 3, 4)인 경우 이는\n",
        "\n",
        "- {{2}, {2, 1}, {2, 1, 3}, {2, 1, 3, 4}}\n",
        "\n",
        "와 같이 표현할 수 있습니다. 이때, 집합은 원소의 순서가 바뀌어도 상관없으므로\n",
        "\n",
        "- {{2}, {2, 1}, {2, 1, 3}, {2, 1, 3, 4}}\n",
        "- {{2, 1, 3, 4}, {2}, {2, 1, 3}, {2, 1}}\n",
        "- {{1, 2, 3}, {2, 1}, {1, 2, 4, 3}, {2}}\n",
        "\n",
        "는 모두 같은 튜플 (2, 1, 3, 4)를 나타냅니다.\n",
        "\n",
        "특정 튜플을 표현하는 집합이 담긴 문자열 s가 매개변수로 주어질 때, s가 표현하는 튜플을 배열에 담아 return 하도록 solution 함수를 완성해주세요."
      ]
    },
    {
      "cell_type": "markdown",
      "metadata": {
        "id": "ML_sP3ub-6d0"
      },
      "source": [
        "### 제한사항\n",
        "- s의 길이는 5 이상 1,000,000 이하입니다.\n",
        "- s는 숫자와 '{', '}', ',' 로만 이루어져 있습니다.\n",
        "- 숫자가 0으로 시작하는 경우는 없습니다.\n",
        "- s는 항상 중복되는 원소가 없는 튜플을 올바르게 표현하고 있습니다.\n",
        "- s가 표현하는 튜플의 원소는 1 이상 100,000 이하인 자연수입니다.\n",
        "- return 하는 배열의 길이가 1 이상 500 이하인 경우만 입력으로 주어집니다.\n"
      ]
    },
    {
      "cell_type": "code",
      "metadata": {
        "id": "rn6SKcQlxhJa"
      },
      "source": [
        "import re\n",
        "from collections import Counter\n",
        "\n",
        "def solution(s):\n",
        "  num = re.findall(\"\\d+\",s)\n",
        "  result = sorted(Counter(num).items(),\n",
        "         reverse=True,\n",
        "         key=lambda item: item[1])\n",
        "  answer = [int(x[0]) for x in result] \n",
        "  return answer"
      ],
      "execution_count": 117,
      "outputs": []
    },
    {
      "cell_type": "code",
      "metadata": {
        "id": "qqH32jXW_CxG"
      },
      "source": [
        "# 프로그래머스 입출력 예시\n",
        "solution(\"{{2},{2,1},{2,1,3},{2,1,3,4}}\")  # [2,1,3,4]\n",
        "solution(\"{{1,2,3},{2,1},{1,2,4,3},{2}}\")  # [2,1,3,4]\n",
        "solution(\"{{20,111},{111}}\")               # [111,20]\n",
        "solution(\"{{123}}\")                        # [123]\n",
        "solution(\"{{4,2,3},{3},{2,3,4,1},{2,3}}\")  # [3,2,4,1]"
      ],
      "execution_count": null,
      "outputs": []
    },
    {
      "cell_type": "markdown",
      "metadata": {
        "id": "c35eI7sD3ZGC"
      },
      "source": [
        "### Did you solve alone?\n",
        "YES!! "
      ]
    },
    {
      "cell_type": "markdown",
      "metadata": {
        "id": "eEP55U863dYK"
      },
      "source": [
        "### 문제풀이\n",
        "위 문제를 풀기 위해서 적용한 방법은 answer 값의 순서는 s 안에 count가 제일 많은 순으로 answer값에 들어간다는 것을 알았습니다.\n",
        "\n",
        "- 1단계\n",
        "        num = re.findall(\"\\d+\",s)\n",
        "위 정규표현식을 사용해 s안에 있는 모든 숫자를 num에 저장했습니다.\n",
        "\n",
        "- 2단계\n",
        "        result = sorted(\n",
        "                Counter(num).items(),\n",
        "                reverse=True,\n",
        "                key=lambda item: item[1])\n",
        "Counter 함수를 사용해 num에 있는 원소들 각각의 개수를 계산한 후 이를 sorted하여\n",
        "value값의 내림차순으로 정렬 후 \n",
        "result에 저장했습니다.\n",
        "\n",
        "- 3단계\n",
        "        answer = [int(x[0]) for x in result]\n",
        "내림차순 된 result는\n",
        "\n",
        "ex) result =  [(원소1,개수),(원소2,개수),,,\n",
        "                (원소n,개수)]\n",
        "\n",
        "형식으로 되어있어\n",
        "\n",
        "원소1부터 원소n까지 for문을 사용해 int로 바꿔 차례대로 answer에 값을 집어넣었습니다.\n",
        "\n",
        "이상입니다.\n",
        "\n",
        "\n",
        "\n",
        "          "
      ]
    },
    {
      "cell_type": "code",
      "metadata": {
        "id": "bz_Uq9by4U_x"
      },
      "source": [
        ""
      ],
      "execution_count": null,
      "outputs": []
    }
  ]
}