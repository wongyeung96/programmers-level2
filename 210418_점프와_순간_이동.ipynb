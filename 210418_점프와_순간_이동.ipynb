{
  "nbformat": 4,
  "nbformat_minor": 0,
  "metadata": {
    "colab": {
      "name": "210418_점프와 순간 이동.ipynb",
      "provenance": [],
      "collapsed_sections": [],
      "authorship_tag": "ABX9TyP1P1VVC0/VXpKhmc0flkqW",
      "include_colab_link": true
    },
    "kernelspec": {
      "name": "python3",
      "display_name": "Python 3"
    },
    "language_info": {
      "name": "python"
    }
  },
  "cells": [
    {
      "cell_type": "markdown",
      "metadata": {
        "id": "view-in-github",
        "colab_type": "text"
      },
      "source": [
        "<a href=\"https://colab.research.google.com/github/wongyeung96/programmers-level2/blob/main/210418_%EC%A0%90%ED%94%84%EC%99%80_%EC%88%9C%EA%B0%84_%EC%9D%B4%EB%8F%99.ipynb\" target=\"_parent\"><img src=\"https://colab.research.google.com/assets/colab-badge.svg\" alt=\"Open In Colab\"/></a>"
      ]
    },
    {
      "cell_type": "markdown",
      "metadata": {
        "id": "mFNSYDW_LyiH"
      },
      "source": [
        "### 문제 설명\n",
        "OO연구소는 한 번에 K 칸을 앞으로 점프하거나,\n",
        "(현재까지 온 거리) x 2 에 해당하는 위치로 순간이동을 할 수 있는 특수한 기능을 가진 아이언 슈트를 개발하여 판매하고 있습니다. 이 아이언 슈트는 건전지로 작동되는데, 순간이동을 하면 건전지 사용량이 줄지 않지만, 앞으로 K 칸을 점프하면 K 만큼의 건전지 사용량이 듭니다. 그러므로 아이언 슈트를 착용하고 이동할 때는 순간 이동을 하는 것이 더 효율적입니다. 아이언 슈트 구매자는 아이언 슈트를 착용하고 거리가 N 만큼 떨어져 있는 장소로 가려고 합니다. 단, 건전지 사용량을 줄이기 위해 점프로 이동하는 것은 최소로 하려고 합니다. 아이언 슈트 구매자가 이동하려는 거리 N이 주어졌을 때, 사용해야 하는 건전지 사용량의 최솟값을 return 하는 solution 함수를 만들어 주세요.\n",
        "\n",
        "예를 들어 거리가 5만큼 떨어져 있는 장소로 가려고 합니다. 아이언 슈트를 입고 거리가 5만큼 떨어져 있는 장소로 갈 수 있는 경우의 수는 여러 가지 입니다.\n",
        "\n",
        "- 처음 위치 0 에서 5 칸을 앞으로 점프하면 바로 도착하지만, 건전지 사용량이 5만큼 듭니다.\n",
        "\n",
        "- 처음 위치 0 에서 2 칸을 앞으로 점프한 다음 순간이동 하면 (현재까지 온 거리 : 2) x 2에 해당하는 위치로 이동할 수 있으므로 위치 4로 이동합니다. 이때 1칸을 앞으로 점프하면 도착하므로 건전지 사용량이 3만큼 듭니다.\n",
        "\n",
        "- 처음 위치 0에서 1칸을 앞으로 점프한 다음 순간이동 하면 (현재까지 온 거리 : 1) x 2에 해당하는 위치로 이동할 수 있으므로 위치 2로 이동됩니다. 이때 다시 순간이동 하면 (현재까지 온 거리 : 2) x 2만큼 이동할 수 있으므로 위치 4로 이동합니다. 이때 1 칸을 앞으로 점프하면 도착하므로 건전지 사용량이 2만큼 듭니다.\n",
        "\n",
        "위의 3가지 경우 거리가 5만큼 떨어져 있는 장소로 가기 위해서 3번째 경우가 건전지 사용량이 가장 적으므로 답은 2가 됩니다.\n",
        "\n"
      ]
    },
    {
      "cell_type": "markdown",
      "metadata": {
        "id": "QMSC2RNuNJa1"
      },
      "source": [
        "### 제한 사항\n",
        "- 숫자 N : 1 이상 10억 이하의 자연수\n",
        "- 숫자 K : 1 이상의 자연수\n"
      ]
    },
    {
      "cell_type": "code",
      "metadata": {
        "id": "kWc6cjAmLwTk"
      },
      "source": [
        "def solution(n):\n",
        "    ans = 0\n",
        "    while n != 0:\n",
        "      n,ans = (n//2,ans) if n%2 == 0 else ((n-1)//2,ans+1)\n",
        "    return ans"
      ],
      "execution_count": 18,
      "outputs": []
    },
    {
      "cell_type": "markdown",
      "metadata": {
        "id": "aH-EmRIHYtW0"
      },
      "source": [
        "### 입출력 예\n"
      ]
    },
    {
      "cell_type": "code",
      "metadata": {
        "colab": {
          "base_uri": "https://localhost:8080/"
        },
        "id": "p0cFTCbTYmeO",
        "outputId": "bc2c61b3-2d79-4d09-9c07-d1940ee04f65"
      },
      "source": [
        "solution(5)  ## 2"
      ],
      "execution_count": 19,
      "outputs": [
        {
          "output_type": "execute_result",
          "data": {
            "text/plain": [
              "2"
            ]
          },
          "metadata": {
            "tags": []
          },
          "execution_count": 19
        }
      ]
    },
    {
      "cell_type": "code",
      "metadata": {
        "colab": {
          "base_uri": "https://localhost:8080/"
        },
        "id": "vu-S6erXYoot",
        "outputId": "4aed7c3c-57c9-4c8c-b073-4ba640dc5ea6"
      },
      "source": [
        "solution(6)  ## 2"
      ],
      "execution_count": 20,
      "outputs": [
        {
          "output_type": "execute_result",
          "data": {
            "text/plain": [
              "2"
            ]
          },
          "metadata": {
            "tags": []
          },
          "execution_count": 20
        }
      ]
    },
    {
      "cell_type": "code",
      "metadata": {
        "colab": {
          "base_uri": "https://localhost:8080/"
        },
        "id": "6OqbTqWuNU-x",
        "outputId": "29484dff-5327-447f-8f38-578a57fe08ea"
      },
      "source": [
        "solution(5000) ## 5"
      ],
      "execution_count": 21,
      "outputs": [
        {
          "output_type": "execute_result",
          "data": {
            "text/plain": [
              "5"
            ]
          },
          "metadata": {
            "tags": []
          },
          "execution_count": 21
        }
      ]
    },
    {
      "cell_type": "markdown",
      "metadata": {
        "id": "1zr99gLxefUd"
      },
      "source": [
        "### Did you solve alone?\n",
        "Yes!"
      ]
    },
    {
      "cell_type": "markdown",
      "metadata": {
        "id": "7YQ5M8juei3w"
      },
      "source": [
        "### 문제 풀이\n",
        "최소 건전지 사용량은 다음과 같다.\n",
        "순간이동은 x2씩 앞으로 가므로\n",
        "n = 5000일 때 \n",
        "n을 2로 나누어 준다.\n",
        "이때 0으로 나누어 떨어지지 않으면 점프를 1씩 해준다고 생각한다.\n",
        "그래서 최종적으로 n이 0이 될때까지 while 문을 돌려준다.\n",
        "\n",
        "점프를 1씩 한 것의 합을 ans라고 할때 ans의 값은 5가 된다."
      ]
    },
    {
      "cell_type": "markdown",
      "metadata": {
        "id": "kddPTgx4fVdL"
      },
      "source": [
        "### 다른 사람의 창의적인 풀이\n",
        "\n",
        "    def solution(n):\n",
        "        return bin(n).count('1')\n",
        "\n",
        "이 식은 이진법을 이용한 풀이.\n",
        "이진법으로 나타낼 때 1의 개수를 count 하면 최소 건전지 사용량이 나온다."
      ]
    },
    {
      "cell_type": "code",
      "metadata": {
        "id": "-7h4FIISfTez"
      },
      "source": [
        ""
      ],
      "execution_count": null,
      "outputs": []
    }
  ]
}