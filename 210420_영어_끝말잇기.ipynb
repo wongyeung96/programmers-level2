{
  "nbformat": 4,
  "nbformat_minor": 0,
  "metadata": {
    "colab": {
      "name": "210420_영어 끝말잇기.ipynb",
      "provenance": [],
      "collapsed_sections": [],
      "authorship_tag": "ABX9TyNVhtF9o0XKfOqXjS2H5VSb",
      "include_colab_link": true
    },
    "kernelspec": {
      "name": "python3",
      "display_name": "Python 3"
    },
    "language_info": {
      "name": "python"
    }
  },
  "cells": [
    {
      "cell_type": "markdown",
      "metadata": {
        "id": "view-in-github",
        "colab_type": "text"
      },
      "source": [
        "<a href=\"https://colab.research.google.com/github/wongyeung96/programmers-level2/blob/main/210420_%EC%98%81%EC%96%B4_%EB%81%9D%EB%A7%90%EC%9E%87%EA%B8%B0.ipynb\" target=\"_parent\"><img src=\"https://colab.research.google.com/assets/colab-badge.svg\" alt=\"Open In Colab\"/></a>"
      ]
    },
    {
      "cell_type": "markdown",
      "metadata": {
        "id": "G7wYgsxJoHLw"
      },
      "source": [
        "### 문제 설명\n",
        "1부터 n까지 번호가 붙어있는 n명의 사람이 영어 끝말잇기를 하고 있습니다. 영어 끝말잇기는 다음과 같은 규칙으로 진행됩니다.\n",
        "\n",
        "      1. 1번부터 번호 순서대로 한 사람씩 차례대로 단어를 말합니다.\n",
        "      2. 마지막 사람이 단어를 말한 다음에는 다시 1번부터 시작합니다.\n",
        "      3. 앞라마이 말한 단어의 마지막 문자로 시작하는 단어를 말해야 합니다.\n",
        "      4. 이전에 등장했던 단어는 사용할 수 없습니다.\n",
        "      5. 한 글자인 단어는 인정되지 않습니다.\n",
        "\n",
        "다음은 3명이 끝말잇기를 하는 상황을 나타냅니다.\n",
        "\n",
        "tank → kick → know → wheel → land → dream → mother → robot → tank\n",
        "\n",
        "위 끝말잇기는 다음과 같이 진행됩니다.\n",
        "\n",
        "      - 1번 사람이 자신의 첫 번째 차례에 tank를 말합니다.\n",
        "      - 2번 사람이 자신의 첫 번째 차례에 kick을 말합니다.\n",
        "      - 3번 사람이 자신의 첫 번째 차례에 know를 말합니다.\n",
        "      - 1번 사람이 자신의 두 번째 차례에 wheel을 말합니다.\n",
        "      - (계속 진행)\n",
        "\n",
        "끝말잇기를 계속 진행해 나가다 보면, 3번 사람이 자신의 세 번째 차례에 말한 tank 라는 단어는 이전에 등장했떤 단어이므로 탈락하게 됩니다.\n",
        "\n",
        "사람의 수 n과 사람들이 순서대로 말한 단어 words가 매개변수로 주어질 때, 가장 먼저 탈락하는 사람의 번호와 그 사람이 자신의 몇 번째 차례에 탈락하는지를 구해서 return 하도록 solution 함수를 완성해주세요,\n",
        "\n"
      ]
    },
    {
      "cell_type": "markdown",
      "metadata": {
        "id": "-ICLd6mrX4qo"
      },
      "source": [
        "### 제한 사항\n",
        "- 끝말잇기에 참여하는 사람의 수 n은 2 이상 10 이하 자연수.\n",
        "- words는 끝말잇기에 사용한 단어들이 순서대로 들어있는 배열이며, 길이는 n 이상 100 이하입니다.\n",
        "- 단어의 길이는 2 이상 50 이하입니다.\n",
        "- 모든 단어는 알파벳 소문자로만 이루어져 있습니다.\n",
        "- 끝말잇기에 사용되는 단어의 뜻(의미)은 신경 쓰지 않아도 된다.\n",
        "- 정답은 [번호, 차례] 형태로 return 해주세요.\n",
        "- 만약 주어진 단어들로 탈락자가 생기지 않는다면 [0,0]을 return 해주세요."
      ]
    },
    {
      "cell_type": "code",
      "metadata": {
        "id": "yylq-oclzF8q"
      },
      "source": [
        "def solution(n,words):\n",
        "  words_location = [] # 단어 위치 리스트\n",
        "  words_new = []      # 중복 값 확인하는 리스트\n",
        "  words_new.append(words[0])\n",
        "  count = 1\n",
        "  while len(words_location) < len(words):\n",
        "    for i in range(n):\n",
        "      words_location.append([i+1,count]) # [사람 번호, 차례]\n",
        "    count += 1\n",
        "\n",
        "  for i in range(len(words)-1):\n",
        "    if words[i][-1] != words[i+1][0]: # 끝말잇기가 X\n",
        "      answer = words_location[i+1]\n",
        "      break\n",
        "    else: # 끝말잇기 O\n",
        "      if words[i+1] in words_new: # 중복 값이 있는 경우\n",
        "        answer = words_location[i+1]\n",
        "        break\n",
        "      else:\n",
        "        words_new.append(words[i+1])\n",
        "  else:\n",
        "    answer = [0,0]\n",
        "  \n",
        "  return answer"
      ],
      "execution_count": 19,
      "outputs": []
    },
    {
      "cell_type": "code",
      "metadata": {
        "id": "lG4FQ2JvoB64",
        "colab": {
          "base_uri": "https://localhost:8080/"
        },
        "outputId": "637420d0-206a-4843-cdad-cd4c6b48947d"
      },
      "source": [
        "# 입출력 예\n",
        "solution(3,[\"tank\", \"kick\", \"know\", \"wheel\", \"land\", \"dream\", \"mother\", \"robot\", \"tank\"])  # [3,3]"
      ],
      "execution_count": 20,
      "outputs": [
        {
          "output_type": "execute_result",
          "data": {
            "text/plain": [
              "[3, 3]"
            ]
          },
          "metadata": {
            "tags": []
          },
          "execution_count": 20
        }
      ]
    },
    {
      "cell_type": "code",
      "metadata": {
        "colab": {
          "base_uri": "https://localhost:8080/"
        },
        "id": "32M1zx7tFPyG",
        "outputId": "b133b1bf-b6d7-4f09-82a1-a3b78a58a561"
      },
      "source": [
        "solution(5,[\"hello\", \"observe\", \"effect\", \"take\", \"either\", \"recognize\", \"encourage\", \"ensure\", \"establish\", \"hang\", \"gather\", \"refer\", \"reference\", \"estimate\", \"executive\"])  # [0,0]"
      ],
      "execution_count": 21,
      "outputs": [
        {
          "output_type": "execute_result",
          "data": {
            "text/plain": [
              "[0, 0]"
            ]
          },
          "metadata": {
            "tags": []
          },
          "execution_count": 21
        }
      ]
    },
    {
      "cell_type": "code",
      "metadata": {
        "colab": {
          "base_uri": "https://localhost:8080/"
        },
        "id": "gj6A4_loFPlF",
        "outputId": "08880c88-996a-4b29-a8d1-b7dfc5aee6de"
      },
      "source": [
        "solution(2,[\"hello\", \"one\", \"even\", \"never\", \"now\", \"world\", \"draw\"])  # [1,3]"
      ],
      "execution_count": 22,
      "outputs": [
        {
          "output_type": "execute_result",
          "data": {
            "text/plain": [
              "[1, 3]"
            ]
          },
          "metadata": {
            "tags": []
          },
          "execution_count": 22
        }
      ]
    },
    {
      "cell_type": "code",
      "metadata": {
        "colab": {
          "base_uri": "https://localhost:8080/"
        },
        "id": "7EerJnjtFWms",
        "outputId": "669a16f0-a6a1-443a-b8c8-559125827262"
      },
      "source": [
        "solution(2,[\"abb\", \"baa\", \"ccc\", \"cda\", \"abb\"]) # [1,2]"
      ],
      "execution_count": 23,
      "outputs": [
        {
          "output_type": "execute_result",
          "data": {
            "text/plain": [
              "[1, 2]"
            ]
          },
          "metadata": {
            "tags": []
          },
          "execution_count": 23
        }
      ]
    },
    {
      "cell_type": "markdown",
      "metadata": {
        "id": "58Nbq18tJgb-"
      },
      "source": [
        "### Did you solve alone?\n",
        "YES!!!!"
      ]
    },
    {
      "cell_type": "markdown",
      "metadata": {
        "id": "WcSj3PABJkes"
      },
      "source": [
        "### 문제 풀이\n",
        "    words_location : words 행 열 위치 리스트\n",
        "    words_new : words의 중복값을 확인하는 리스트\n",
        "\n",
        "다음은 words_location 리스트에 words index 별 [사람 번호, 차례]를 입력해주는 while문이다.\n",
        "\n",
        "    count = 1\n",
        "    while len(words_location) < len(words):\n",
        "      for i in range(n):\n",
        "        words_location.append([i+1,count]) # [사람 번호, 차례]\n",
        "      count += 1\n",
        "다음은 처음 나오는 if문을 통해 끝말잇기가 되는지 안되는지 확인하고\n",
        "끝말잇기가 잘 되었으면 중복 값인지 확인하는 두 번째 if문으로 확인.\n",
        "\n",
        "만약 for문이 break 없이 잘 진행된다면 answer = [0,0]값을 갖게 for~else문을 활용하였다.\n",
        "\n",
        "    for i in range(len(words)-1):\n",
        "      if words[i][-1] != words[i+1][0]: # 끝말잇기가 X\n",
        "        answer = words_location[i+1]\n",
        "        break\n",
        "      else: # 끝말잇기 O\n",
        "        if words[i+1] in words_new: # 중복 값이 있는 경우\n",
        "          answer = words_location[i+1]\n",
        "          break\n",
        "        else:\n",
        "          words_new.append(words[i+1])\n",
        "    else:\n",
        "      answer = [0,0]"
      ]
    }
  ]
}