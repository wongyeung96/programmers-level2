{
  "nbformat": 4,
  "nbformat_minor": 0,
  "metadata": {
    "colab": {
      "name": "210428_이진 변환 반복하기.ipynb",
      "provenance": [],
      "collapsed_sections": [],
      "authorship_tag": "ABX9TyN+EEXH+0MMfsSzF+7JkgG7",
      "include_colab_link": true
    },
    "kernelspec": {
      "name": "python3",
      "display_name": "Python 3"
    },
    "language_info": {
      "name": "python"
    }
  },
  "cells": [
    {
      "cell_type": "markdown",
      "metadata": {
        "id": "view-in-github",
        "colab_type": "text"
      },
      "source": [
        "<a href=\"https://colab.research.google.com/github/wongyeung96/programmers-level2/blob/main/210428_%EC%9D%B4%EC%A7%84_%EB%B3%80%ED%99%98_%EB%B0%98%EB%B3%B5%ED%95%98%EA%B8%B0.ipynb\" target=\"_parent\"><img src=\"https://colab.research.google.com/assets/colab-badge.svg\" alt=\"Open In Colab\"/></a>"
      ]
    },
    {
      "cell_type": "markdown",
      "metadata": {
        "id": "EUfJG-AAf_tm"
      },
      "source": [
        "### 문제 설명\n",
        "0과 1로 이루어진 어떤 문자열 x에 대한 이진 변환을 다음과 같이 정의합니다.\n",
        "\n",
        "    1. x의 모든 0을 제거합니다.\n",
        "    2. x의 길이를 c라고 하면, x를 \"c를 2진법으로 표현한 문자열\"로 바꿉니다.\n",
        "\n",
        "예를 들어, x = \"0111010\"이라면, x에 이진 변환을 가하면 x = \"0111010\" -> \"1111\" -> \"100\"이 됩니다.\n",
        "\n",
        "0과 1로 이루어진 문자열 s가 매개변수로 주어집니다. s가 \"1\"이 될 때까지 계속해서 s에 이진 변환을 가했을 때, 이진 변환의 횟수와 변환 과정에서 제거된 모든 0의 개수를 각각 배열에 담아 return 하도록 solution 함수를 완성해주세요."
      ]
    },
    {
      "cell_type": "markdown",
      "metadata": {
        "id": "1t_RAXzQgdAy"
      },
      "source": [
        "### 제한사항\n",
        "- s의 길이는 1 이상 150,000 이하입니다.\n",
        "- s에는 '1'이 최소 하나 이상 포함되어 있습니다.\n"
      ]
    },
    {
      "cell_type": "code",
      "metadata": {
        "id": "RdbvaP6exj96"
      },
      "source": [
        "# 1단계 0의 개수와 남은 1의 개수구하기\n",
        "# 2단계 남은 1의 개수를 2진법을 바꾸기(변환 횟수 +1)\n",
        "# 3단계 남은 1의 길이가 1이 될때까지 반복\n",
        "def solution(s):\n",
        "  change_count = 0\n",
        "  zero_count = 0\n",
        "  while s != \"1\":\n",
        "    zero_count += s.count(\"0\")\n",
        "    s = bin(s.count(\"1\"))[2:]\n",
        "    change_count += 1\n",
        "  return [change_count,zero_count]"
      ],
      "execution_count": 14,
      "outputs": []
    },
    {
      "cell_type": "code",
      "metadata": {
        "id": "UT-sEDHdf7Ri",
        "colab": {
          "base_uri": "https://localhost:8080/"
        },
        "outputId": "73f3aa9b-1518-4ff0-cc2e-00ac49d604a3"
      },
      "source": [
        "### 입출력 예\n",
        "print(solution(\"110010101001\"))\t# [3,8]\n",
        "print(solution(\"01110\"))\t#[3,3]\n",
        "print(solution(\"1111111\"))\t#[4,1]"
      ],
      "execution_count": 15,
      "outputs": [
        {
          "output_type": "stream",
          "text": [
            "[3, 8]\n",
            "[3, 3]\n",
            "[4, 1]\n"
          ],
          "name": "stdout"
        }
      ]
    },
    {
      "cell_type": "markdown",
      "metadata": {
        "id": "EnLvZxuN1E5c"
      },
      "source": [
        "### Did you solve alone?\n",
        "YES!!!!"
      ]
    },
    {
      "cell_type": "markdown",
      "metadata": {
        "id": "kY0WBjYs1IFN"
      },
      "source": [
        "### 문제 풀이\n",
        "1. 일단 변화 개수(change_count)와 0의 개수(zero_count) 설정\n",
        "        change_count = 0\n",
        "        zero_count = 0\n",
        "2. while문을 통해 s가 \"1\"이 될때까지 반복\n",
        "        while s != \"1\":\n",
        "3. zero_count를 s에서 0의 개수를 count\n",
        "        zero_count += s.count(\"0\")\n",
        "4. s를 1의 개수에 bin을 사용해 이진수의 값으로 갱신\n",
        "        s = bin(s.count(\"1\"))[2:]\n",
        "5. while문이 한번 끝날 때마다 변화 개수 change_count 를 +1 해줌\n",
        "        change_count += 1\n",
        "6. 최종 change_count 값과, zero_count 값을 return 해준다.\n",
        "        return [change_count,zero_count]"
      ]
    }
  ]
}