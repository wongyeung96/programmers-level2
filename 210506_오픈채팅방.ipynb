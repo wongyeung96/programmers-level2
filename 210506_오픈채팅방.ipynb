{
  "nbformat": 4,
  "nbformat_minor": 0,
  "metadata": {
    "colab": {
      "name": "210506_오픈채팅방.ipynb",
      "provenance": [],
      "collapsed_sections": [],
      "authorship_tag": "ABX9TyPjoYiUQVV3iSjMHhdOJVQZ",
      "include_colab_link": true
    },
    "kernelspec": {
      "name": "python3",
      "display_name": "Python 3"
    },
    "language_info": {
      "name": "python"
    }
  },
  "cells": [
    {
      "cell_type": "markdown",
      "metadata": {
        "id": "view-in-github",
        "colab_type": "text"
      },
      "source": [
        "<a href=\"https://colab.research.google.com/github/wongyeung96/programmers-level2/blob/main/210506_%EC%98%A4%ED%94%88%EC%B1%84%ED%8C%85%EB%B0%A9.ipynb\" target=\"_parent\"><img src=\"https://colab.research.google.com/assets/colab-badge.svg\" alt=\"Open In Colab\"/></a>"
      ]
    },
    {
      "cell_type": "markdown",
      "metadata": {
        "id": "Mlr78GI-SaDB"
      },
      "source": [
        "### 문제 설명\n",
        "카카오톡 오픈채팅방에서는 친구가 아닌 사람들과 대화를 할 수 있는데, 본래 닉네임이 아닌 가상의 닉네임을 사용하여 채팅방에 들어갈 수 있다.\n",
        "\n",
        "신입사원인 김크루는 카카오톡 오픈 채팅방을 개설한 사람을 위해, 다양한 사람들이 들어오고, 나가는 것을 지켜볼 수 있는 관리자 창을 만들기로 했다. 채팅방에 누군가 들어오면 다음 메시지가 출력된다.\n",
        "\n",
        "\"[닉네임]님이 들어왔습니다.\"\n",
        "\n",
        "채팅방에서 누군가 나가면 다음 메시지가 출력된다.\n",
        "\n",
        "\"[닉네임]님이 나갔습니다.\"\n",
        "\n",
        "채팅방에서 닉네임을 변경하는 방법은 다음과 같이 두 가지이다.\n",
        "\n",
        "  - 채팅방을 나간 후, 새로운 닉네임으로 다시 들어간다.\n",
        "  - 채팅방에서 닉네임을 변경한다.\n",
        "\n",
        "닉네임을 변경할 때는 기존에 채팅방에 출력되어 있던 메시지의 닉네임도 전부 변경된다.\n",
        "\n",
        "예를 들어, 채팅방에 \"Muzi\"와 \"Prodo\"라는 닉네임을 사용하는 사람이 순서대로 들어오면 채팅방에는 다음과 같이 메시지가 출력된다.\n",
        "\n",
        "\"Muzi님이 들어왔습니다.\"\n",
        "\"Prodo님이 들어왔습니다.\"\n",
        "\n",
        "채팅방에 있던 사람이 나가면 채팅방에는 다음과 같이 메시지가 남는다.\n",
        "\n",
        "\"Muzi님이 들어왔습니다.\"\n",
        "\"Prodo님이 들어왔습니다.\"\n",
        "\"Muzi님이 나갔습니다.\"\n",
        "\n",
        "Muzi가 나간후 다시 들어올 때, Prodo 라는 닉네임으로 들어올 경우 기존에 채팅방에 남아있던 Muzi도 Prodo로 다음과 같이 변경된다.\n",
        "\n",
        "\"Prodo님이 들어왔습니다.\"\n",
        "\"Prodo님이 들어왔습니다.\"\n",
        "\"Prodo님이 나갔습니다.\"\n",
        "\"Prodo님이 들어왔습니다.\"\n",
        "\n",
        "채팅방은 중복 닉네임을 허용하기 때문에, 현재 채팅방에는 Prodo라는 닉네임을 사용하는 사람이 두 명이 있다. 이제, 채팅방에 두 번째로 들어왔던 Prodo가 Ryan으로 닉네임을 변경하면 채팅방 메시지는 다음과 같이 변경된다.\n",
        "\n",
        "\"Prodo님이 들어왔습니다.\"\n",
        "\"Ryan님이 들어왔습니다.\"\n",
        "\"Prodo님이 나갔습니다.\"\n",
        "\"Prodo님이 들어왔습니다.\"\n",
        "\n",
        "채팅방에 들어오고 나가거나, 닉네임을 변경한 기록이 담긴 문자열 배열 record가 매개변수로 주어질 때, 모든 기록이 처리된 후, 최종적으로 방을 개설한 사람이 보게 되는 메시지를 문자열 배열 형태로 return 하도록 solution 함수를 완성하라."
      ]
    },
    {
      "cell_type": "markdown",
      "metadata": {
        "id": "OXOx51PHTsiv"
      },
      "source": [
        "### 제한사항\n"
      ]
    },
    {
      "cell_type": "code",
      "metadata": {
        "id": "ReX_QjUiSWE1"
      },
      "source": [
        "# 첫 번째로 change일 때 아이디 별 닉네임 바꾸기\n",
        "\n",
        "# 두 번째로 나갔다 들어왔을 때 아이디 바꾸기\n",
        "\n",
        "# 최종 아이디별 닉네임에 따라\n",
        "# 아이디별 행동 출력 result에 추가\n",
        "\n",
        "def solution(s):\n",
        "  id_dic = {}\n",
        "  move_list = [] # 행동, 아이디\n",
        "  for i in s:\n",
        "    info = i.split(\" \")\n",
        "    mission = info.pop(0)  # mission은 행동, info[0]은 아이디, info[1]은 닉네임\n",
        "    if mission ==\"Enter\":\n",
        "      id_dic[info[0]] = info[1]\n",
        "      move_list.append([info[0],\"님이 들어왔습니다.\"])\n",
        "    elif mission ==\"Leave\":\n",
        "      move_list.append([info[0],\"님이 나갔습니다.\"])\n",
        "    else: # mission ==\"Change\"\n",
        "      id_dic[info[0]] = info[1]\n",
        "  \n",
        "  return list(map(lambda x:id_dic[x[0]]+x[1] ,move_list))"
      ],
      "execution_count": 3,
      "outputs": []
    },
    {
      "cell_type": "code",
      "metadata": {
        "id": "sWMHFrcBVyfH",
        "colab": {
          "base_uri": "https://localhost:8080/"
        },
        "outputId": "10a1685f-c0a2-49df-b249-bd2e7587ee61"
      },
      "source": [
        "# 입출력 예\n",
        "solution([\"Enter uid1234 Muzi\", \"Enter uid4567 Prodo\",\"Leave uid1234\",\"Enter uid1234 Prodo\",\"Change uid4567 Ryan\"])\n",
        "# [\"Prodo님이 들어왔습니다.\", \"Ryan님이 들어왔습니다.\", \"Prodo님이 나갔습니다.\", \"Prodo님이 들어왔습니다.\"]"
      ],
      "execution_count": 4,
      "outputs": [
        {
          "output_type": "execute_result",
          "data": {
            "text/plain": [
              "['Prodo님이 들어왔습니다.', 'Ryan님이 들어왔습니다.', 'Prodo님이 나갔습니다.', 'Prodo님이 들어왔습니다.']"
            ]
          },
          "metadata": {
            "tags": []
          },
          "execution_count": 4
        }
      ]
    }
  ]
}